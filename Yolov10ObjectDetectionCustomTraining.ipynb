{
  "nbformat": 4,
  "nbformat_minor": 0,
  "metadata": {
    "colab": {
      "provenance": [],
      "authorship_tag": "ABX9TyPQTewkfhc/wHnUG8kD0Zx8",
      "include_colab_link": true
    },
    "kernelspec": {
      "name": "python3",
      "display_name": "Python 3"
    },
    "language_info": {
      "name": "python"
    }
  },
  "cells": [
    {
      "cell_type": "markdown",
      "metadata": {
        "id": "view-in-github",
        "colab_type": "text"
      },
      "source": [
        "<a href=\"https://colab.research.google.com/github/shrutiparbadiya/Day5-YOLOv10-ObjectTracking/blob/main/Yolov10ObjectDetectionCustomTraining.ipynb\" target=\"_parent\"><img src=\"https://colab.research.google.com/assets/colab-badge.svg\" alt=\"Open In Colab\"/></a>"
      ]
    },
    {
      "cell_type": "code",
      "execution_count": null,
      "metadata": {
        "id": "Uwmw1g8_7SXc"
      },
      "outputs": [],
      "source": [
        "\n",
        "\n",
        "### 1. Mount Google Drive ###\n",
        "\n",
        "from google.colab import drive\n",
        "\n",
        "drive.mount('/content/gdrive')\n",
        "\n",
        "\n",
        "### 2. Prepare data ###\n",
        "\n",
        "!scp '/content/gdrive/My Drive/Yolov10ObjectDetectionFullGuide/data.zip' '/content/data.zip'\n",
        "\n",
        "!unzip '/content/data.zip' -d '/content/'\n",
        "\n",
        "\n",
        "### 3. Install packages ###\n",
        "\n",
        "!git clone https://github.com/THU-MIG/yolov10.git\n",
        "!cd yolov10 && pip install .\n",
        "\n",
        "\n",
        "### 4. Train model ###\n",
        "\n",
        "import os\n",
        "\n",
        "from ultralytics import YOLOv10\n",
        "\n",
        "\n",
        "config_path = '/content/gdrive/My Drive/Yolov10ObjectDetectionFullGuide/config.yaml'\n",
        "\n",
        "# Load a model\n",
        "model = YOLOv10.from_pretrained(\"jameslahm/yolov10n\")  # load pre trained model\n",
        "\n",
        "# Use the model\n",
        "model.train(data=config_path, epochs=200, batch=32)  # train the model\n",
        "\n",
        "\n",
        "\n",
        "### 5. Download results ###\n",
        "\n",
        "from google.colab import files\n",
        "\n",
        "\n",
        "!zip -r /content/runs.zip /content/runs\n",
        "\n",
        "files.download('/content/runs.zip')\n",
        "\n",
        ""
      ]
    }
  ]
}